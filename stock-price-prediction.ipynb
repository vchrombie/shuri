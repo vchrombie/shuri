{
 "cells": [
  {
   "cell_type": "markdown",
   "metadata": {},
   "source": [
    "## Problem Scenario:\n",
    "\n",
    "In this project we have a dataset containing stock prices of Google from May-2009 to August-2018. We have both AMD and Google datasets. We are using only Google data as of now. \n",
    "\n",
    "Dataset Source: https://www.kaggle.com/gunhee/amdgoogle\n",
    "\n",
    "We are using the stock prices data from 2009 to 2017 (9 years) for training the neural network and predict the stock prices for the year 2018. This is a Regression problem.\n",
    "\n",
    "To achieve this goal, we will train a **Recurrent Neural Network (LSTM)**. We will use one of the deep learning libraries, **Keras**, to build the neural network.\n"
   ]
  },
  {
   "cell_type": "markdown",
   "metadata": {},
   "source": [
    "## Importing the Libraries"
   ]
  },
  {
   "cell_type": "code",
   "execution_count": 1,
   "metadata": {},
   "outputs": [],
   "source": [
    "import numpy as np\n",
    "import pandas as pd\n",
    "\n",
    "import datetime\n",
    "\n",
    "import matplotlib.pyplot as plt\n",
    "%matplotlib inline\n",
    "\n",
    "from matplotlib.pylab import rcParams"
   ]
  },
  {
   "cell_type": "code",
   "execution_count": 2,
   "metadata": {},
   "outputs": [
    {
     "name": "stderr",
     "output_type": "stream",
     "text": [
      "/usr/local/lib/python3.5/dist-packages/h5py/__init__.py:36: FutureWarning: Conversion of the second argument of issubdtype from `float` to `np.floating` is deprecated. In future, it will be treated as `np.float64 == np.dtype(float).type`.\n",
      "  from ._conv import register_converters as _register_converters\n",
      "Using TensorFlow backend.\n"
     ]
    }
   ],
   "source": [
    "from keras.layers import LSTM, Dense, Dropout\n",
    "from keras.models import Sequential\n",
    "\n",
    "from sklearn.preprocessing import MinMaxScaler"
   ]
  },
  {
   "cell_type": "code",
   "execution_count": 3,
   "metadata": {},
   "outputs": [],
   "source": [
    "# !pip install keras\n",
    "# !pip install tensorflow"
   ]
  },
  {
   "cell_type": "markdown",
   "metadata": {},
   "source": [
    "## Loading the dataset"
   ]
  },
  {
   "cell_type": "code",
   "execution_count": 4,
   "metadata": {},
   "outputs": [],
   "source": [
    "df = pd.read_csv(\"dataset/GOOGL.csv\")"
   ]
  },
  {
   "cell_type": "code",
   "execution_count": 5,
   "metadata": {},
   "outputs": [
    {
     "data": {
      "text/html": [
       "<div>\n",
       "<style scoped>\n",
       "    .dataframe tbody tr th:only-of-type {\n",
       "        vertical-align: middle;\n",
       "    }\n",
       "\n",
       "    .dataframe tbody tr th {\n",
       "        vertical-align: top;\n",
       "    }\n",
       "\n",
       "    .dataframe thead th {\n",
       "        text-align: right;\n",
       "    }\n",
       "</style>\n",
       "<table border=\"1\" class=\"dataframe\">\n",
       "  <thead>\n",
       "    <tr style=\"text-align: right;\">\n",
       "      <th></th>\n",
       "      <th>Date</th>\n",
       "      <th>Open</th>\n",
       "      <th>High</th>\n",
       "      <th>Low</th>\n",
       "      <th>Close</th>\n",
       "      <th>Adj Close</th>\n",
       "      <th>Volume</th>\n",
       "    </tr>\n",
       "  </thead>\n",
       "  <tbody>\n",
       "    <tr>\n",
       "      <th>0</th>\n",
       "      <td>2009-05-22</td>\n",
       "      <td>198.528534</td>\n",
       "      <td>199.524521</td>\n",
       "      <td>196.196198</td>\n",
       "      <td>196.946945</td>\n",
       "      <td>196.946945</td>\n",
       "      <td>3433700</td>\n",
       "    </tr>\n",
       "    <tr>\n",
       "      <th>1</th>\n",
       "      <td>2009-05-26</td>\n",
       "      <td>196.171173</td>\n",
       "      <td>202.702698</td>\n",
       "      <td>195.195190</td>\n",
       "      <td>202.382385</td>\n",
       "      <td>202.382385</td>\n",
       "      <td>6202700</td>\n",
       "    </tr>\n",
       "    <tr>\n",
       "      <th>2</th>\n",
       "      <td>2009-05-27</td>\n",
       "      <td>203.023026</td>\n",
       "      <td>206.136139</td>\n",
       "      <td>202.607605</td>\n",
       "      <td>202.982986</td>\n",
       "      <td>202.982986</td>\n",
       "      <td>6062500</td>\n",
       "    </tr>\n",
       "    <tr>\n",
       "      <th>3</th>\n",
       "      <td>2009-05-28</td>\n",
       "      <td>204.544540</td>\n",
       "      <td>206.016022</td>\n",
       "      <td>202.507507</td>\n",
       "      <td>205.405411</td>\n",
       "      <td>205.405411</td>\n",
       "      <td>5332200</td>\n",
       "    </tr>\n",
       "    <tr>\n",
       "      <th>4</th>\n",
       "      <td>2009-05-29</td>\n",
       "      <td>206.261261</td>\n",
       "      <td>208.823822</td>\n",
       "      <td>205.555557</td>\n",
       "      <td>208.823822</td>\n",
       "      <td>208.823822</td>\n",
       "      <td>5291100</td>\n",
       "    </tr>\n",
       "  </tbody>\n",
       "</table>\n",
       "</div>"
      ],
      "text/plain": [
       "         Date        Open        High         Low       Close   Adj Close  \\\n",
       "0  2009-05-22  198.528534  199.524521  196.196198  196.946945  196.946945   \n",
       "1  2009-05-26  196.171173  202.702698  195.195190  202.382385  202.382385   \n",
       "2  2009-05-27  203.023026  206.136139  202.607605  202.982986  202.982986   \n",
       "3  2009-05-28  204.544540  206.016022  202.507507  205.405411  205.405411   \n",
       "4  2009-05-29  206.261261  208.823822  205.555557  208.823822  208.823822   \n",
       "\n",
       "    Volume  \n",
       "0  3433700  \n",
       "1  6202700  \n",
       "2  6062500  \n",
       "3  5332200  \n",
       "4  5291100  "
      ]
     },
     "execution_count": 5,
     "metadata": {},
     "output_type": "execute_result"
    }
   ],
   "source": [
    "df.head()"
   ]
  },
  {
   "cell_type": "code",
   "execution_count": 6,
   "metadata": {},
   "outputs": [
    {
     "data": {
      "text/html": [
       "<div>\n",
       "<style scoped>\n",
       "    .dataframe tbody tr th:only-of-type {\n",
       "        vertical-align: middle;\n",
       "    }\n",
       "\n",
       "    .dataframe tbody tr th {\n",
       "        vertical-align: top;\n",
       "    }\n",
       "\n",
       "    .dataframe thead th {\n",
       "        text-align: right;\n",
       "    }\n",
       "</style>\n",
       "<table border=\"1\" class=\"dataframe\">\n",
       "  <thead>\n",
       "    <tr style=\"text-align: right;\">\n",
       "      <th></th>\n",
       "      <th>Date</th>\n",
       "      <th>Open</th>\n",
       "      <th>High</th>\n",
       "      <th>Low</th>\n",
       "      <th>Close</th>\n",
       "      <th>Adj Close</th>\n",
       "      <th>Volume</th>\n",
       "    </tr>\n",
       "  </thead>\n",
       "  <tbody>\n",
       "    <tr>\n",
       "      <th>2330</th>\n",
       "      <td>2018-08-23</td>\n",
       "      <td>1219.880005</td>\n",
       "      <td>1235.170044</td>\n",
       "      <td>1219.349976</td>\n",
       "      <td>1221.160034</td>\n",
       "      <td>1221.160034</td>\n",
       "      <td>1233300</td>\n",
       "    </tr>\n",
       "    <tr>\n",
       "      <th>2331</th>\n",
       "      <td>2018-08-24</td>\n",
       "      <td>1226.000000</td>\n",
       "      <td>1237.400024</td>\n",
       "      <td>1221.420044</td>\n",
       "      <td>1236.750000</td>\n",
       "      <td>1236.750000</td>\n",
       "      <td>1222700</td>\n",
       "    </tr>\n",
       "    <tr>\n",
       "      <th>2332</th>\n",
       "      <td>2018-08-27</td>\n",
       "      <td>1244.140015</td>\n",
       "      <td>1257.869995</td>\n",
       "      <td>1240.680054</td>\n",
       "      <td>1256.270020</td>\n",
       "      <td>1256.270020</td>\n",
       "      <td>1429000</td>\n",
       "    </tr>\n",
       "    <tr>\n",
       "      <th>2333</th>\n",
       "      <td>2018-08-28</td>\n",
       "      <td>1255.900024</td>\n",
       "      <td>1256.560059</td>\n",
       "      <td>1242.969971</td>\n",
       "      <td>1245.859985</td>\n",
       "      <td>1245.859985</td>\n",
       "      <td>1366500</td>\n",
       "    </tr>\n",
       "    <tr>\n",
       "      <th>2334</th>\n",
       "      <td>2018-08-29</td>\n",
       "      <td>1255.000000</td>\n",
       "      <td>1267.170044</td>\n",
       "      <td>1252.800049</td>\n",
       "      <td>1264.650024</td>\n",
       "      <td>1264.650024</td>\n",
       "      <td>1846300</td>\n",
       "    </tr>\n",
       "  </tbody>\n",
       "</table>\n",
       "</div>"
      ],
      "text/plain": [
       "            Date         Open         High          Low        Close  \\\n",
       "2330  2018-08-23  1219.880005  1235.170044  1219.349976  1221.160034   \n",
       "2331  2018-08-24  1226.000000  1237.400024  1221.420044  1236.750000   \n",
       "2332  2018-08-27  1244.140015  1257.869995  1240.680054  1256.270020   \n",
       "2333  2018-08-28  1255.900024  1256.560059  1242.969971  1245.859985   \n",
       "2334  2018-08-29  1255.000000  1267.170044  1252.800049  1264.650024   \n",
       "\n",
       "        Adj Close   Volume  \n",
       "2330  1221.160034  1233300  \n",
       "2331  1236.750000  1222700  \n",
       "2332  1256.270020  1429000  \n",
       "2333  1245.859985  1366500  \n",
       "2334  1264.650024  1846300  "
      ]
     },
     "execution_count": 6,
     "metadata": {},
     "output_type": "execute_result"
    }
   ],
   "source": [
    "df.tail()"
   ]
  },
  {
   "cell_type": "code",
   "execution_count": 7,
   "metadata": {},
   "outputs": [
    {
     "name": "stdout",
     "output_type": "stream",
     "text": [
      "<class 'pandas.core.frame.DataFrame'>\n",
      "RangeIndex: 2335 entries, 0 to 2334\n",
      "Data columns (total 7 columns):\n",
      "Date         2335 non-null object\n",
      "Open         2335 non-null float64\n",
      "High         2335 non-null float64\n",
      "Low          2335 non-null float64\n",
      "Close        2335 non-null float64\n",
      "Adj Close    2335 non-null float64\n",
      "Volume       2335 non-null int64\n",
      "dtypes: float64(5), int64(1), object(1)\n",
      "memory usage: 127.8+ KB\n"
     ]
    }
   ],
   "source": [
    "df.info()"
   ]
  },
  {
   "cell_type": "code",
   "execution_count": 8,
   "metadata": {},
   "outputs": [
    {
     "name": "stdout",
     "output_type": "stream",
     "text": [
      "Size =  16345\n",
      "Shape =  (2335, 7)\n",
      "Shape[0] x Shape[1] = 16345\n"
     ]
    }
   ],
   "source": [
    "# dataframe.size \n",
    "print(\"Size = \", df.size)\n",
    "\n",
    "# dataframe.shape \n",
    "shape = df.shape \n",
    "print(\"Shape = \", shape)\n",
    "print(\"Shape[0] x Shape[1] = {}\".format(shape[0]*shape[1])) "
   ]
  },
  {
   "cell_type": "markdown",
   "metadata": {},
   "source": [
    "## Exploratory Data Analysis"
   ]
  },
  {
   "cell_type": "code",
   "execution_count": 9,
   "metadata": {},
   "outputs": [
    {
     "name": "stdout",
     "output_type": "stream",
     "text": [
      "There are 2335 rows and 7 columns\n"
     ]
    }
   ],
   "source": [
    "df.dataframeName = 'GOOGL.csv'\n",
    "nRow, nCol = df.shape\n",
    "print('There are',nRow,'rows and',nCol,'columns')"
   ]
  },
  {
   "cell_type": "markdown",
   "metadata": {},
   "source": [
    "Let's take a quick look at what the data looks like"
   ]
  },
  {
   "cell_type": "code",
   "execution_count": 10,
   "metadata": {},
   "outputs": [
    {
     "data": {
      "text/html": [
       "<div>\n",
       "<style scoped>\n",
       "    .dataframe tbody tr th:only-of-type {\n",
       "        vertical-align: middle;\n",
       "    }\n",
       "\n",
       "    .dataframe tbody tr th {\n",
       "        vertical-align: top;\n",
       "    }\n",
       "\n",
       "    .dataframe thead th {\n",
       "        text-align: right;\n",
       "    }\n",
       "</style>\n",
       "<table border=\"1\" class=\"dataframe\">\n",
       "  <thead>\n",
       "    <tr style=\"text-align: right;\">\n",
       "      <th></th>\n",
       "      <th>Date</th>\n",
       "      <th>Open</th>\n",
       "      <th>High</th>\n",
       "      <th>Low</th>\n",
       "      <th>Close</th>\n",
       "      <th>Adj Close</th>\n",
       "      <th>Volume</th>\n",
       "    </tr>\n",
       "  </thead>\n",
       "  <tbody>\n",
       "    <tr>\n",
       "      <th>0</th>\n",
       "      <td>2009-05-22</td>\n",
       "      <td>198.528534</td>\n",
       "      <td>199.524521</td>\n",
       "      <td>196.196198</td>\n",
       "      <td>196.946945</td>\n",
       "      <td>196.946945</td>\n",
       "      <td>3433700</td>\n",
       "    </tr>\n",
       "    <tr>\n",
       "      <th>1</th>\n",
       "      <td>2009-05-26</td>\n",
       "      <td>196.171173</td>\n",
       "      <td>202.702698</td>\n",
       "      <td>195.195190</td>\n",
       "      <td>202.382385</td>\n",
       "      <td>202.382385</td>\n",
       "      <td>6202700</td>\n",
       "    </tr>\n",
       "    <tr>\n",
       "      <th>2</th>\n",
       "      <td>2009-05-27</td>\n",
       "      <td>203.023026</td>\n",
       "      <td>206.136139</td>\n",
       "      <td>202.607605</td>\n",
       "      <td>202.982986</td>\n",
       "      <td>202.982986</td>\n",
       "      <td>6062500</td>\n",
       "    </tr>\n",
       "    <tr>\n",
       "      <th>3</th>\n",
       "      <td>2009-05-28</td>\n",
       "      <td>204.544540</td>\n",
       "      <td>206.016022</td>\n",
       "      <td>202.507507</td>\n",
       "      <td>205.405411</td>\n",
       "      <td>205.405411</td>\n",
       "      <td>5332200</td>\n",
       "    </tr>\n",
       "    <tr>\n",
       "      <th>4</th>\n",
       "      <td>2009-05-29</td>\n",
       "      <td>206.261261</td>\n",
       "      <td>208.823822</td>\n",
       "      <td>205.555557</td>\n",
       "      <td>208.823822</td>\n",
       "      <td>208.823822</td>\n",
       "      <td>5291100</td>\n",
       "    </tr>\n",
       "  </tbody>\n",
       "</table>\n",
       "</div>"
      ],
      "text/plain": [
       "         Date        Open        High         Low       Close   Adj Close  \\\n",
       "0  2009-05-22  198.528534  199.524521  196.196198  196.946945  196.946945   \n",
       "1  2009-05-26  196.171173  202.702698  195.195190  202.382385  202.382385   \n",
       "2  2009-05-27  203.023026  206.136139  202.607605  202.982986  202.982986   \n",
       "3  2009-05-28  204.544540  206.016022  202.507507  205.405411  205.405411   \n",
       "4  2009-05-29  206.261261  208.823822  205.555557  208.823822  208.823822   \n",
       "\n",
       "    Volume  \n",
       "0  3433700  \n",
       "1  6202700  \n",
       "2  6062500  \n",
       "3  5332200  \n",
       "4  5291100  "
      ]
     },
     "execution_count": 10,
     "metadata": {},
     "output_type": "execute_result"
    }
   ],
   "source": [
    "df.head(5)"
   ]
  },
  {
   "cell_type": "code",
   "execution_count": 11,
   "metadata": {},
   "outputs": [
    {
     "data": {
      "text/html": [
       "<div>\n",
       "<style scoped>\n",
       "    .dataframe tbody tr th:only-of-type {\n",
       "        vertical-align: middle;\n",
       "    }\n",
       "\n",
       "    .dataframe tbody tr th {\n",
       "        vertical-align: top;\n",
       "    }\n",
       "\n",
       "    .dataframe thead th {\n",
       "        text-align: right;\n",
       "    }\n",
       "</style>\n",
       "<table border=\"1\" class=\"dataframe\">\n",
       "  <thead>\n",
       "    <tr style=\"text-align: right;\">\n",
       "      <th></th>\n",
       "      <th>Open</th>\n",
       "      <th>High</th>\n",
       "      <th>Low</th>\n",
       "      <th>Close</th>\n",
       "      <th>Adj Close</th>\n",
       "      <th>Volume</th>\n",
       "    </tr>\n",
       "  </thead>\n",
       "  <tbody>\n",
       "    <tr>\n",
       "      <th>count</th>\n",
       "      <td>2335.000000</td>\n",
       "      <td>2335.000000</td>\n",
       "      <td>2335.000000</td>\n",
       "      <td>2335.000000</td>\n",
       "      <td>2335.000000</td>\n",
       "      <td>2.335000e+03</td>\n",
       "    </tr>\n",
       "    <tr>\n",
       "      <th>mean</th>\n",
       "      <td>550.725409</td>\n",
       "      <td>555.136744</td>\n",
       "      <td>545.908515</td>\n",
       "      <td>550.662757</td>\n",
       "      <td>550.662757</td>\n",
       "      <td>3.764886e+06</td>\n",
       "    </tr>\n",
       "    <tr>\n",
       "      <th>std</th>\n",
       "      <td>278.136894</td>\n",
       "      <td>280.349025</td>\n",
       "      <td>275.855161</td>\n",
       "      <td>278.228484</td>\n",
       "      <td>278.228484</td>\n",
       "      <td>2.764696e+06</td>\n",
       "    </tr>\n",
       "    <tr>\n",
       "      <th>min</th>\n",
       "      <td>196.171173</td>\n",
       "      <td>199.524521</td>\n",
       "      <td>195.195190</td>\n",
       "      <td>196.946945</td>\n",
       "      <td>196.946945</td>\n",
       "      <td>5.206000e+05</td>\n",
       "    </tr>\n",
       "    <tr>\n",
       "      <th>25%</th>\n",
       "      <td>299.286773</td>\n",
       "      <td>301.759247</td>\n",
       "      <td>297.197204</td>\n",
       "      <td>299.144135</td>\n",
       "      <td>299.144135</td>\n",
       "      <td>1.734650e+06</td>\n",
       "    </tr>\n",
       "    <tr>\n",
       "      <th>50%</th>\n",
       "      <td>526.211182</td>\n",
       "      <td>532.780029</td>\n",
       "      <td>521.909973</td>\n",
       "      <td>527.767761</td>\n",
       "      <td>527.767761</td>\n",
       "      <td>3.250200e+06</td>\n",
       "    </tr>\n",
       "    <tr>\n",
       "      <th>75%</th>\n",
       "      <td>757.760010</td>\n",
       "      <td>763.745025</td>\n",
       "      <td>752.024994</td>\n",
       "      <td>758.524993</td>\n",
       "      <td>758.524993</td>\n",
       "      <td>4.891800e+06</td>\n",
       "    </tr>\n",
       "    <tr>\n",
       "      <th>max</th>\n",
       "      <td>1289.119995</td>\n",
       "      <td>1291.439941</td>\n",
       "      <td>1263.000000</td>\n",
       "      <td>1285.500000</td>\n",
       "      <td>1285.500000</td>\n",
       "      <td>2.961990e+07</td>\n",
       "    </tr>\n",
       "  </tbody>\n",
       "</table>\n",
       "</div>"
      ],
      "text/plain": [
       "              Open         High          Low        Close    Adj Close  \\\n",
       "count  2335.000000  2335.000000  2335.000000  2335.000000  2335.000000   \n",
       "mean    550.725409   555.136744   545.908515   550.662757   550.662757   \n",
       "std     278.136894   280.349025   275.855161   278.228484   278.228484   \n",
       "min     196.171173   199.524521   195.195190   196.946945   196.946945   \n",
       "25%     299.286773   301.759247   297.197204   299.144135   299.144135   \n",
       "50%     526.211182   532.780029   521.909973   527.767761   527.767761   \n",
       "75%     757.760010   763.745025   752.024994   758.524993   758.524993   \n",
       "max    1289.119995  1291.439941  1263.000000  1285.500000  1285.500000   \n",
       "\n",
       "             Volume  \n",
       "count  2.335000e+03  \n",
       "mean   3.764886e+06  \n",
       "std    2.764696e+06  \n",
       "min    5.206000e+05  \n",
       "25%    1.734650e+06  \n",
       "50%    3.250200e+06  \n",
       "75%    4.891800e+06  \n",
       "max    2.961990e+07  "
      ]
     },
     "execution_count": 11,
     "metadata": {},
     "output_type": "execute_result"
    }
   ],
   "source": [
    "#statistical summary of the attributes\n",
    "\n",
    "df.describe()"
   ]
  },
  {
   "cell_type": "code",
   "execution_count": 12,
   "metadata": {},
   "outputs": [
    {
     "data": {
      "image/png": "[encoded data removed]",
      "text/plain": [
       "<matplotlib.figure.Figure at 0x7fb7f3a54c88>"
      ]
     },
     "metadata": {},
     "output_type": "display_data"
    },
    {
     "data": {
      "image/png": "[encoded data removed]",
      "text/plain": [
       "<matplotlib.figure.Figure at 0x7fb7f0181b00>"
      ]
     },
     "metadata": {},
     "output_type": "display_data"
    }
   ],
   "source": [
    "# boxplots\n",
    "\n",
    "df.iloc[:,0:6].boxplot()\n",
    "plt.show()\n",
    "\n",
    "df.iloc[:,6:7].boxplot()\n",
    "plt.show()"
   ]
  },
  {
   "cell_type": "code",
   "execution_count": 13,
   "metadata": {},
   "outputs": [
    {
     "data": {
      "image/png": "[encoded data removed]",
      "text/plain": [
       "<matplotlib.figure.Figure at 0x7fb7f3adbcf8>"
      ]
     },
     "metadata": {},
     "output_type": "display_data"
    }
   ],
   "source": [
    "df.hist(figsize=(12, 6))\n",
    "plt.show()"
   ]
  },
  {
   "cell_type": "code",
   "execution_count": 14,
   "metadata": {},
   "outputs": [
    {
     "data": {
      "text/html": [
       "<div>\n",
       "<style scoped>\n",
       "    .dataframe tbody tr th:only-of-type {\n",
       "        vertical-align: middle;\n",
       "    }\n",
       "\n",
       "    .dataframe tbody tr th {\n",
       "        vertical-align: top;\n",
       "    }\n",
       "\n",
       "    .dataframe thead th {\n",
       "        text-align: right;\n",
       "    }\n",
       "</style>\n",
       "<table border=\"1\" class=\"dataframe\">\n",
       "  <thead>\n",
       "    <tr style=\"text-align: right;\">\n",
       "      <th></th>\n",
       "      <th>Open</th>\n",
       "      <th>High</th>\n",
       "      <th>Low</th>\n",
       "      <th>Close</th>\n",
       "      <th>Adj Close</th>\n",
       "      <th>Volume</th>\n",
       "    </tr>\n",
       "  </thead>\n",
       "  <tbody>\n",
       "    <tr>\n",
       "      <th>Open</th>\n",
       "      <td>1.000000</td>\n",
       "      <td>0.999879</td>\n",
       "      <td>0.999815</td>\n",
       "      <td>0.999687</td>\n",
       "      <td>0.999687</td>\n",
       "      <td>-0.573989</td>\n",
       "    </tr>\n",
       "    <tr>\n",
       "      <th>High</th>\n",
       "      <td>0.999879</td>\n",
       "      <td>1.000000</td>\n",
       "      <td>0.999805</td>\n",
       "      <td>0.999844</td>\n",
       "      <td>0.999844</td>\n",
       "      <td>-0.572042</td>\n",
       "    </tr>\n",
       "    <tr>\n",
       "      <th>Low</th>\n",
       "      <td>0.999815</td>\n",
       "      <td>0.999805</td>\n",
       "      <td>1.000000</td>\n",
       "      <td>0.999874</td>\n",
       "      <td>0.999874</td>\n",
       "      <td>-0.577802</td>\n",
       "    </tr>\n",
       "    <tr>\n",
       "      <th>Close</th>\n",
       "      <td>0.999687</td>\n",
       "      <td>0.999844</td>\n",
       "      <td>0.999874</td>\n",
       "      <td>1.000000</td>\n",
       "      <td>1.000000</td>\n",
       "      <td>-0.575422</td>\n",
       "    </tr>\n",
       "    <tr>\n",
       "      <th>Adj Close</th>\n",
       "      <td>0.999687</td>\n",
       "      <td>0.999844</td>\n",
       "      <td>0.999874</td>\n",
       "      <td>1.000000</td>\n",
       "      <td>1.000000</td>\n",
       "      <td>-0.575422</td>\n",
       "    </tr>\n",
       "    <tr>\n",
       "      <th>Volume</th>\n",
       "      <td>-0.573989</td>\n",
       "      <td>-0.572042</td>\n",
       "      <td>-0.577802</td>\n",
       "      <td>-0.575422</td>\n",
       "      <td>-0.575422</td>\n",
       "      <td>1.000000</td>\n",
       "    </tr>\n",
       "  </tbody>\n",
       "</table>\n",
       "</div>"
      ],
      "text/plain": [
       "               Open      High       Low     Close  Adj Close    Volume\n",
       "Open       1.000000  0.999879  0.999815  0.999687   0.999687 -0.573989\n",
       "High       0.999879  1.000000  0.999805  0.999844   0.999844 -0.572042\n",
       "Low        0.999815  0.999805  1.000000  0.999874   0.999874 -0.577802\n",
       "Close      0.999687  0.999844  0.999874  1.000000   1.000000 -0.575422\n",
       "Adj Close  0.999687  0.999844  0.999874  1.000000   1.000000 -0.575422\n",
       "Volume    -0.573989 -0.572042 -0.577802 -0.575422  -0.575422  1.000000"
      ]
     },
     "execution_count": 14,
     "metadata": {},
     "output_type": "execute_result"
    }
   ],
   "source": [
    "# Correlation Matrix\n",
    "\n",
    "df.corr()"
   ]
  },
  {
   "cell_type": "code",
   "execution_count": 15,
   "metadata": {},
   "outputs": [
    {
     "data": {
      "image/png": "[encoded data removed]",
      "text/plain": [
       "<matplotlib.figure.Figure at 0x7fb7f00b0fd0>"
      ]
     },
     "metadata": {},
     "output_type": "display_data"
    }
   ],
   "source": [
    "# Correlation Matrix Plot\n",
    "\n",
    "f = plt.figure(figsize=(12, 6))\n",
    "plt.matshow(df.corr(), fignum=f.number)\n",
    "plt.xticks(range(df.shape[1]), df.columns, fontsize=14, rotation=45)\n",
    "plt.yticks(range(df.shape[1]), df.columns, fontsize=14)\n",
    "cb = plt.colorbar()\n",
    "cb.ax.tick_params(labelsize=14)"
   ]
  },
  {
   "cell_type": "code",
   "execution_count": 16,
   "metadata": {},
   "outputs": [
    {
     "data": {
      "text/html": [
       "<style  type=\"text/css\" >\n",
       "    #T_508efae2_f431_11e9_8bbe_d07e352349a7row0_col0 {\n",
       "            background-color:  #b40426;\n",
       "        }    #T_508efae2_f431_11e9_8bbe_d07e352349a7row0_col1 {\n",
       "            background-color:  #b40426;\n",
       "        }    #T_508efae2_f431_11e9_8bbe_d07e352349a7row0_col2 {\n",
       "            background-color:  #b40426;\n",
       "        }    #T_508efae2_f431_11e9_8bbe_d07e352349a7row0_col3 {\n",
       "            background-color:  #b40426;\n",
       "        }    #T_508efae2_f431_11e9_8bbe_d07e352349a7row0_col4 {\n",
       "            background-color:  #b40426;\n",
       "        }    #T_508efae2_f431_11e9_8bbe_d07e352349a7row0_col5 {\n",
       "            background-color:  #3b4cc0;\n",
       "        }    #T_508efae2_f431_11e9_8bbe_d07e352349a7row1_col0 {\n",
       "            background-color:  #b40426;\n",
       "        }    #T_508efae2_f431_11e9_8bbe_d07e352349a7row1_col1 {\n",
       "            background-color:  #b40426;\n",
       "        }    #T_508efae2_f431_11e9_8bbe_d07e352349a7row1_col2 {\n",
       "            background-color:  #b40426;\n",
       "        }    #T_508efae2_f431_11e9_8bbe_d07e352349a7row1_col3 {\n",
       "            background-color:  #b40426;\n",
       "        }    #T_508efae2_f431_11e9_8bbe_d07e352349a7row1_col4 {\n",
       "            background-color:  #b40426;\n",
       "        }    #T_508efae2_f431_11e9_8bbe_d07e352349a7row1_col5 {\n",
       "            background-color:  #3b4cc0;\n",
       "        }    #T_508efae2_f431_11e9_8bbe_d07e352349a7row2_col0 {\n",
       "            background-color:  #b40426;\n",
       "        }    #T_508efae2_f431_11e9_8bbe_d07e352349a7row2_col1 {\n",
       "            background-color:  #b40426;\n",
       "        }    #T_508efae2_f431_11e9_8bbe_d07e352349a7row2_col2 {\n",
       "            background-color:  #b40426;\n",
       "        }    #T_508efae2_f431_11e9_8bbe_d07e352349a7row2_col3 {\n",
       "            background-color:  #b40426;\n",
       "        }    #T_508efae2_f431_11e9_8bbe_d07e352349a7row2_col4 {\n",
       "            background-color:  #b40426;\n",
       "        }    #T_508efae2_f431_11e9_8bbe_d07e352349a7row2_col5 {\n",
       "            background-color:  #3b4cc0;\n",
       "        }    #T_508efae2_f431_11e9_8bbe_d07e352349a7row3_col0 {\n",
       "            background-color:  #b40426;\n",
       "        }    #T_508efae2_f431_11e9_8bbe_d07e352349a7row3_col1 {\n",
       "            background-color:  #b40426;\n",
       "        }    #T_508efae2_f431_11e9_8bbe_d07e352349a7row3_col2 {\n",
       "            background-color:  #b40426;\n",
       "        }    #T_508efae2_f431_11e9_8bbe_d07e352349a7row3_col3 {\n",
       "            background-color:  #b40426;\n",
       "        }    #T_508efae2_f431_11e9_8bbe_d07e352349a7row3_col4 {\n",
       "            background-color:  #b40426;\n",
       "        }    #T_508efae2_f431_11e9_8bbe_d07e352349a7row3_col5 {\n",
       "            background-color:  #3b4cc0;\n",
       "        }    #T_508efae2_f431_11e9_8bbe_d07e352349a7row4_col0 {\n",
       "            background-color:  #b40426;\n",
       "        }    #T_508efae2_f431_11e9_8bbe_d07e352349a7row4_col1 {\n",
       "            background-color:  #b40426;\n",
       "        }    #T_508efae2_f431_11e9_8bbe_d07e352349a7row4_col2 {\n",
       "            background-color:  #b40426;\n",
       "        }    #T_508efae2_f431_11e9_8bbe_d07e352349a7row4_col3 {\n",
       "            background-color:  #b40426;\n",
       "        }    #T_508efae2_f431_11e9_8bbe_d07e352349a7row4_col4 {\n",
       "            background-color:  #b40426;\n",
       "        }    #T_508efae2_f431_11e9_8bbe_d07e352349a7row4_col5 {\n",
       "            background-color:  #3b4cc0;\n",
       "        }    #T_508efae2_f431_11e9_8bbe_d07e352349a7row5_col0 {\n",
       "            background-color:  #3b4cc0;\n",
       "        }    #T_508efae2_f431_11e9_8bbe_d07e352349a7row5_col1 {\n",
       "            background-color:  #3b4cc0;\n",
       "        }    #T_508efae2_f431_11e9_8bbe_d07e352349a7row5_col2 {\n",
       "            background-color:  #3b4cc0;\n",
       "        }    #T_508efae2_f431_11e9_8bbe_d07e352349a7row5_col3 {\n",
       "            background-color:  #3b4cc0;\n",
       "        }    #T_508efae2_f431_11e9_8bbe_d07e352349a7row5_col4 {\n",
       "            background-color:  #3b4cc0;\n",
       "        }    #T_508efae2_f431_11e9_8bbe_d07e352349a7row5_col5 {\n",
       "            background-color:  #b40426;\n",
       "        }</style>  \n",
       "<table id=\"T_508efae2_f431_11e9_8bbe_d07e352349a7\" > \n",
       "<thead>    <tr> \n",
       "        <th class=\"blank level0\" ></th> \n",
       "        <th class=\"col_heading level0 col0\" >Open</th> \n",
       "        <th class=\"col_heading level0 col1\" >High</th> \n",
       "        <th class=\"col_heading level0 col2\" >Low</th> \n",
       "        <th class=\"col_heading level0 col3\" >Close</th> \n",
       "        <th class=\"col_heading level0 col4\" >Adj Close</th> \n",
       "        <th class=\"col_heading level0 col5\" >Volume</th> \n",
       "    </tr></thead> \n",
       "<tbody>    <tr> \n",
       "        <th id=\"T_508efae2_f431_11e9_8bbe_d07e352349a7level0_row0\" class=\"row_heading level0 row0\" >Open</th> \n",
       "        <td id=\"T_508efae2_f431_11e9_8bbe_d07e352349a7row0_col0\" class=\"data row0 col0\" >1</td> \n",
       "        <td id=\"T_508efae2_f431_11e9_8bbe_d07e352349a7row0_col1\" class=\"data row0 col1\" >1</td> \n",
       "        <td id=\"T_508efae2_f431_11e9_8bbe_d07e352349a7row0_col2\" class=\"data row0 col2\" >1</td> \n",
       "        <td id=\"T_508efae2_f431_11e9_8bbe_d07e352349a7row0_col3\" class=\"data row0 col3\" >1</td> \n",
       "        <td id=\"T_508efae2_f431_11e9_8bbe_d07e352349a7row0_col4\" class=\"data row0 col4\" >1</td> \n",
       "        <td id=\"T_508efae2_f431_11e9_8bbe_d07e352349a7row0_col5\" class=\"data row0 col5\" >-0.57</td> \n",
       "    </tr>    <tr> \n",
       "        <th id=\"T_508efae2_f431_11e9_8bbe_d07e352349a7level0_row1\" class=\"row_heading level0 row1\" >High</th> \n",
       "        <td id=\"T_508efae2_f431_11e9_8bbe_d07e352349a7row1_col0\" class=\"data row1 col0\" >1</td> \n",
       "        <td id=\"T_508efae2_f431_11e9_8bbe_d07e352349a7row1_col1\" class=\"data row1 col1\" >1</td> \n",
       "        <td id=\"T_508efae2_f431_11e9_8bbe_d07e352349a7row1_col2\" class=\"data row1 col2\" >1</td> \n",
       "        <td id=\"T_508efae2_f431_11e9_8bbe_d07e352349a7row1_col3\" class=\"data row1 col3\" >1</td> \n",
       "        <td id=\"T_508efae2_f431_11e9_8bbe_d07e352349a7row1_col4\" class=\"data row1 col4\" >1</td> \n",
       "        <td id=\"T_508efae2_f431_11e9_8bbe_d07e352349a7row1_col5\" class=\"data row1 col5\" >-0.57</td> \n",
       "    </tr>    <tr> \n",
       "        <th id=\"T_508efae2_f431_11e9_8bbe_d07e352349a7level0_row2\" class=\"row_heading level0 row2\" >Low</th> \n",
       "        <td id=\"T_508efae2_f431_11e9_8bbe_d07e352349a7row2_col0\" class=\"data row2 col0\" >1</td> \n",
       "        <td id=\"T_508efae2_f431_11e9_8bbe_d07e352349a7row2_col1\" class=\"data row2 col1\" >1</td> \n",
       "        <td id=\"T_508efae2_f431_11e9_8bbe_d07e352349a7row2_col2\" class=\"data row2 col2\" >1</td> \n",
       "        <td id=\"T_508efae2_f431_11e9_8bbe_d07e352349a7row2_col3\" class=\"data row2 col3\" >1</td> \n",
       "        <td id=\"T_508efae2_f431_11e9_8bbe_d07e352349a7row2_col4\" class=\"data row2 col4\" >1</td> \n",
       "        <td id=\"T_508efae2_f431_11e9_8bbe_d07e352349a7row2_col5\" class=\"data row2 col5\" >-0.58</td> \n",
       "    </tr>    <tr> \n",
       "        <th id=\"T_508efae2_f431_11e9_8bbe_d07e352349a7level0_row3\" class=\"row_heading level0 row3\" >Close</th> \n",
       "        <td id=\"T_508efae2_f431_11e9_8bbe_d07e352349a7row3_col0\" class=\"data row3 col0\" >1</td> \n",
       "        <td id=\"T_508efae2_f431_11e9_8bbe_d07e352349a7row3_col1\" class=\"data row3 col1\" >1</td> \n",
       "        <td id=\"T_508efae2_f431_11e9_8bbe_d07e352349a7row3_col2\" class=\"data row3 col2\" >1</td> \n",
       "        <td id=\"T_508efae2_f431_11e9_8bbe_d07e352349a7row3_col3\" class=\"data row3 col3\" >1</td> \n",
       "        <td id=\"T_508efae2_f431_11e9_8bbe_d07e352349a7row3_col4\" class=\"data row3 col4\" >1</td> \n",
       "        <td id=\"T_508efae2_f431_11e9_8bbe_d07e352349a7row3_col5\" class=\"data row3 col5\" >-0.58</td> \n",
       "    </tr>    <tr> \n",
       "        <th id=\"T_508efae2_f431_11e9_8bbe_d07e352349a7level0_row4\" class=\"row_heading level0 row4\" >Adj Close</th> \n",
       "        <td id=\"T_508efae2_f431_11e9_8bbe_d07e352349a7row4_col0\" class=\"data row4 col0\" >1</td> \n",
       "        <td id=\"T_508efae2_f431_11e9_8bbe_d07e352349a7row4_col1\" class=\"data row4 col1\" >1</td> \n",
       "        <td id=\"T_508efae2_f431_11e9_8bbe_d07e352349a7row4_col2\" class=\"data row4 col2\" >1</td> \n",
       "        <td id=\"T_508efae2_f431_11e9_8bbe_d07e352349a7row4_col3\" class=\"data row4 col3\" >1</td> \n",
       "        <td id=\"T_508efae2_f431_11e9_8bbe_d07e352349a7row4_col4\" class=\"data row4 col4\" >1</td> \n",
       "        <td id=\"T_508efae2_f431_11e9_8bbe_d07e352349a7row4_col5\" class=\"data row4 col5\" >-0.58</td> \n",
       "    </tr>    <tr> \n",
       "        <th id=\"T_508efae2_f431_11e9_8bbe_d07e352349a7level0_row5\" class=\"row_heading level0 row5\" >Volume</th> \n",
       "        <td id=\"T_508efae2_f431_11e9_8bbe_d07e352349a7row5_col0\" class=\"data row5 col0\" >-0.57</td> \n",
       "        <td id=\"T_508efae2_f431_11e9_8bbe_d07e352349a7row5_col1\" class=\"data row5 col1\" >-0.57</td> \n",
       "        <td id=\"T_508efae2_f431_11e9_8bbe_d07e352349a7row5_col2\" class=\"data row5 col2\" >-0.58</td> \n",
       "        <td id=\"T_508efae2_f431_11e9_8bbe_d07e352349a7row5_col3\" class=\"data row5 col3\" >-0.58</td> \n",
       "        <td id=\"T_508efae2_f431_11e9_8bbe_d07e352349a7row5_col4\" class=\"data row5 col4\" >-0.58</td> \n",
       "        <td id=\"T_508efae2_f431_11e9_8bbe_d07e352349a7row5_col5\" class=\"data row5 col5\" >1</td> \n",
       "    </tr></tbody> \n",
       "</table> "
      ],
      "text/plain": [
       "<pandas.io.formats.style.Styler at 0x7fb807298ac8>"
      ]
     },
     "execution_count": 16,
     "metadata": {},
     "output_type": "execute_result"
    }
   ],
   "source": [
    "# Correlation heatmap\n",
    "\n",
    "rs = np.random.RandomState(0)\n",
    "corr = df.corr()\n",
    "corr.style.background_gradient(cmap='coolwarm').set_precision(2)"
   ]
  },
  {
   "cell_type": "code",
   "execution_count": 17,
   "metadata": {},
   "outputs": [
    {
     "data": {
      "image/png": "[encoded data removed]",
      "text/plain": [
       "<matplotlib.figure.Figure at 0x7fb7f00984a8>"
      ]
     },
     "metadata": {},
     "output_type": "display_data"
    }
   ],
   "source": [
    "# Attribute Scatter Plot Matrix\n",
    "\n",
    "from pandas.plotting import scatter_matrix\n",
    "\n",
    "scatter_matrix(df, figsize=(12, 6), diagonal='kde', alpha=0.2)\n",
    "plt.show()"
   ]
  },
  {
   "cell_type": "markdown",
   "metadata": {},
   "source": [
    "## Splitting the Data"
   ]
  },
  {
   "cell_type": "markdown",
   "metadata": {},
   "source": [
    "You can see that we have the dataset over the years from 2009 to 2018. We planned to train the model over the data from 2009 to 2017 and test it on 2018 data. So, we need to filter the data into two parts.\n",
    "\n",
    "- data_from_2009_to_2017 (starting from May 2009 to December 2017 included)\n",
    "- data_2018 (starting from January 2018 to August 2018)"
   ]
  },
  {
   "cell_type": "code",
   "execution_count": 18,
   "metadata": {},
   "outputs": [],
   "source": [
    "# converting the Date row of the Dataframe to datetime format for easy handling\n",
    "\n",
    "import datetime\n",
    "df['Date'] = pd.to_datetime(df['Date'])"
   ]
  },
  {
   "cell_type": "code",
   "execution_count": 19,
   "metadata": {},
   "outputs": [],
   "source": [
    "# the seperation date\n",
    "\n",
    "dec_2017 = '2017-12-31'"
   ]
  },
  {
   "cell_type": "markdown",
   "metadata": {},
   "source": [
    "### data_from_2009_to_2017"
   ]
  },
  {
   "cell_type": "code",
   "execution_count": 20,
   "metadata": {},
   "outputs": [],
   "source": [
    "mask = (df['Date'] <= dec_2017)\n",
    "data_09to17 = df.loc[mask]"
   ]
  },
  {
   "cell_type": "code",
   "execution_count": 21,
   "metadata": {},
   "outputs": [
    {
     "data": {
      "text/html": [
       "<div>\n",
       "<style scoped>\n",
       "    .dataframe tbody tr th:only-of-type {\n",
       "        vertical-align: middle;\n",
       "    }\n",
       "\n",
       "    .dataframe tbody tr th {\n",
       "        vertical-align: top;\n",
       "    }\n",
       "\n",
       "    .dataframe thead th {\n",
       "        text-align: right;\n",
       "    }\n",
       "</style>\n",
       "<table border=\"1\" class=\"dataframe\">\n",
       "  <thead>\n",
       "    <tr style=\"text-align: right;\">\n",
       "      <th></th>\n",
       "      <th>Date</th>\n",
       "      <th>Open</th>\n",
       "      <th>High</th>\n",
       "      <th>Low</th>\n",
       "      <th>Close</th>\n",
       "      <th>Adj Close</th>\n",
       "      <th>Volume</th>\n",
       "    </tr>\n",
       "  </thead>\n",
       "  <tbody>\n",
       "    <tr>\n",
       "      <th>2163</th>\n",
       "      <td>2017-12-22</td>\n",
       "      <td>1070.000000</td>\n",
       "      <td>1071.719971</td>\n",
       "      <td>1067.640015</td>\n",
       "      <td>1068.859985</td>\n",
       "      <td>1068.859985</td>\n",
       "      <td>889400</td>\n",
       "    </tr>\n",
       "    <tr>\n",
       "      <th>2164</th>\n",
       "      <td>2017-12-26</td>\n",
       "      <td>1068.640015</td>\n",
       "      <td>1068.859985</td>\n",
       "      <td>1058.640015</td>\n",
       "      <td>1065.849976</td>\n",
       "      <td>1065.849976</td>\n",
       "      <td>918800</td>\n",
       "    </tr>\n",
       "    <tr>\n",
       "      <th>2165</th>\n",
       "      <td>2017-12-27</td>\n",
       "      <td>1066.599976</td>\n",
       "      <td>1068.270020</td>\n",
       "      <td>1058.380005</td>\n",
       "      <td>1060.199951</td>\n",
       "      <td>1060.199951</td>\n",
       "      <td>1116200</td>\n",
       "    </tr>\n",
       "    <tr>\n",
       "      <th>2166</th>\n",
       "      <td>2017-12-28</td>\n",
       "      <td>1062.250000</td>\n",
       "      <td>1064.839966</td>\n",
       "      <td>1053.380005</td>\n",
       "      <td>1055.949951</td>\n",
       "      <td>1055.949951</td>\n",
       "      <td>994200</td>\n",
       "    </tr>\n",
       "    <tr>\n",
       "      <th>2167</th>\n",
       "      <td>2017-12-29</td>\n",
       "      <td>1055.489990</td>\n",
       "      <td>1058.050049</td>\n",
       "      <td>1052.699951</td>\n",
       "      <td>1053.400024</td>\n",
       "      <td>1053.400024</td>\n",
       "      <td>1180300</td>\n",
       "    </tr>\n",
       "  </tbody>\n",
       "</table>\n",
       "</div>"
      ],
      "text/plain": [
       "           Date         Open         High          Low        Close  \\\n",
       "2163 2017-12-22  1070.000000  1071.719971  1067.640015  1068.859985   \n",
       "2164 2017-12-26  1068.640015  1068.859985  1058.640015  1065.849976   \n",
       "2165 2017-12-27  1066.599976  1068.270020  1058.380005  1060.199951   \n",
       "2166 2017-12-28  1062.250000  1064.839966  1053.380005  1055.949951   \n",
       "2167 2017-12-29  1055.489990  1058.050049  1052.699951  1053.400024   \n",
       "\n",
       "        Adj Close   Volume  \n",
       "2163  1068.859985   889400  \n",
       "2164  1065.849976   918800  \n",
       "2165  1060.199951  1116200  \n",
       "2166  1055.949951   994200  \n",
       "2167  1053.400024  1180300  "
      ]
     },
     "execution_count": 21,
     "metadata": {},
     "output_type": "execute_result"
    }
   ],
   "source": [
    "data_09to17.tail()"
   ]
  },
  {
   "cell_type": "markdown",
   "metadata": {},
   "source": [
    "### data_2018"
   ]
  },
  {
   "cell_type": "code",
   "execution_count": 22,
   "metadata": {},
   "outputs": [],
   "source": [
    "mask = (df['Date'] > dec_2017)\n",
    "data_18 = df.loc[mask]"
   ]
  },
  {
   "cell_type": "code",
   "execution_count": 23,
   "metadata": {},
   "outputs": [
    {
     "data": {
      "text/html": [
       "<div>\n",
       "<style scoped>\n",
       "    .dataframe tbody tr th:only-of-type {\n",
       "        vertical-align: middle;\n",
       "    }\n",
       "\n",
       "    .dataframe tbody tr th {\n",
       "        vertical-align: top;\n",
       "    }\n",
       "\n",
       "    .dataframe thead th {\n",
       "        text-align: right;\n",
       "    }\n",
       "</style>\n",
       "<table border=\"1\" class=\"dataframe\">\n",
       "  <thead>\n",
       "    <tr style=\"text-align: right;\">\n",
       "      <th></th>\n",
       "      <th>Date</th>\n",
       "      <th>Open</th>\n",
       "      <th>High</th>\n",
       "      <th>Low</th>\n",
       "      <th>Close</th>\n",
       "      <th>Adj Close</th>\n",
       "      <th>Volume</th>\n",
       "    </tr>\n",
       "  </thead>\n",
       "  <tbody>\n",
       "    <tr>\n",
       "      <th>2168</th>\n",
       "      <td>2018-01-02</td>\n",
       "      <td>1053.020020</td>\n",
       "      <td>1075.979980</td>\n",
       "      <td>1053.020020</td>\n",
       "      <td>1073.209961</td>\n",
       "      <td>1073.209961</td>\n",
       "      <td>1588300</td>\n",
       "    </tr>\n",
       "    <tr>\n",
       "      <th>2169</th>\n",
       "      <td>2018-01-03</td>\n",
       "      <td>1073.930054</td>\n",
       "      <td>1096.099976</td>\n",
       "      <td>1073.430054</td>\n",
       "      <td>1091.520020</td>\n",
       "      <td>1091.520020</td>\n",
       "      <td>1565900</td>\n",
       "    </tr>\n",
       "    <tr>\n",
       "      <th>2170</th>\n",
       "      <td>2018-01-04</td>\n",
       "      <td>1097.089966</td>\n",
       "      <td>1104.079956</td>\n",
       "      <td>1094.260010</td>\n",
       "      <td>1095.760010</td>\n",
       "      <td>1095.760010</td>\n",
       "      <td>1302600</td>\n",
       "    </tr>\n",
       "    <tr>\n",
       "      <th>2171</th>\n",
       "      <td>2018-01-05</td>\n",
       "      <td>1103.449951</td>\n",
       "      <td>1113.579956</td>\n",
       "      <td>1101.800049</td>\n",
       "      <td>1110.290039</td>\n",
       "      <td>1110.290039</td>\n",
       "      <td>1512500</td>\n",
       "    </tr>\n",
       "    <tr>\n",
       "      <th>2172</th>\n",
       "      <td>2018-01-08</td>\n",
       "      <td>1111.000000</td>\n",
       "      <td>1119.160034</td>\n",
       "      <td>1110.000000</td>\n",
       "      <td>1114.209961</td>\n",
       "      <td>1114.209961</td>\n",
       "      <td>1232200</td>\n",
       "    </tr>\n",
       "  </tbody>\n",
       "</table>\n",
       "</div>"
      ],
      "text/plain": [
       "           Date         Open         High          Low        Close  \\\n",
       "2168 2018-01-02  1053.020020  1075.979980  1053.020020  1073.209961   \n",
       "2169 2018-01-03  1073.930054  1096.099976  1073.430054  1091.520020   \n",
       "2170 2018-01-04  1097.089966  1104.079956  1094.260010  1095.760010   \n",
       "2171 2018-01-05  1103.449951  1113.579956  1101.800049  1110.290039   \n",
       "2172 2018-01-08  1111.000000  1119.160034  1110.000000  1114.209961   \n",
       "\n",
       "        Adj Close   Volume  \n",
       "2168  1073.209961  1588300  \n",
       "2169  1091.520020  1565900  \n",
       "2170  1095.760010  1302600  \n",
       "2171  1110.290039  1512500  \n",
       "2172  1114.209961  1232200  "
      ]
     },
     "execution_count": 23,
     "metadata": {},
     "output_type": "execute_result"
    }
   ],
   "source": [
    "data_18.head()"
   ]
  },
  {
   "cell_type": "markdown",
   "metadata": {},
   "source": [
    "We will use the `data_09to17` for the further steps. We will use the `data_18` in the end for testing and validating."
   ]
  },
  {
   "cell_type": "markdown",
   "metadata": {},
   "source": [
    "## Data Preprocessing"
   ]
  },
  {
   "cell_type": "markdown",
   "metadata": {},
   "source": [
    "The dataset contains various information like displayed above. But in this project we will only use the `Open` stock prices for training our model. Therefore for the purpose of convenience we will create another variable that stores only the required (`Open` stock price) information. "
   ]
  },
  {
   "cell_type": "code",
   "execution_count": 24,
   "metadata": {},
   "outputs": [
    {
     "name": "stdout",
     "output_type": "stream",
     "text": [
      "[[ 198.528534]\n",
      " [ 196.171173]\n",
      " [ 203.023026]\n",
      " ...\n",
      " [1066.599976]\n",
      " [1062.25    ]\n",
      " [1055.48999 ]]\n",
      "********************\n",
      "********************\n",
      "(2168, 1)\n"
     ]
    }
   ],
   "source": [
    "training_set = data_09to17.iloc[:,1:2].values\n",
    "\n",
    "print(training_set)\n",
    "print(\"********************\")\n",
    "print(\"********************\")\n",
    "print(training_set.shape)"
   ]
  },
  {
   "cell_type": "markdown",
   "metadata": {},
   "source": [
    "Now we can see that there is only one column with the `Open` stock prices. There are a total of 2168 stock prices."
   ]
  },
  {
   "cell_type": "markdown",
   "metadata": {},
   "source": [
    "### Additional Information (Things to Remember!)"
   ]
  },
  {
   "cell_type": "code",
   "execution_count": 25,
   "metadata": {},
   "outputs": [
    {
     "name": "stdout",
     "output_type": "stream",
     "text": [
      "<class 'pandas.core.frame.DataFrame'>\n",
      "<class 'pandas.core.frame.DataFrame'>\n",
      "<class 'numpy.ndarray'>\n"
     ]
    }
   ],
   "source": [
    "print(type(data_09to17))\n",
    "print(type(data_09to17.iloc[:,1:2]))   \n",
    "print(type(data_09to17.iloc[:,1:2].values))\n",
    "\n",
    "# iloc[rangeofRows, rangeofColumns]\n",
    "# Indexing starts from zero.\n",
    "# \":\" indicates entire range.\n",
    "# \"1:2\" indicates column one only. Because, the upper bound will be excluded. \n",
    "# mathematical operation are performed on the arrays. So, it is crusial to convert the data to arrays."
   ]
  },
  {
   "cell_type": "markdown",
   "metadata": {},
   "source": [
    "## Feature scaling\n",
    "\n",
    "The performance of the neural network will be better if the entire training input is in the same range. As we can see from above the stock prices are not in the same range. So, we need to scale the training data such that they are in the same range. This process is called Feature Scaling. The two popular methods for feature scaling are:\n",
    "\n",
    "* **Standardization**\n",
    "\n",
    "$ x' = \\frac{x - \\bar{x}}{\\sigma} $\n",
    "\n",
    "where $ x $ is the original feature vector, $ \\bar{x} $ is the mean of that feature vector, and $ \\sigma $ is its standard deviation.\n",
    "\n",
    "* **Normalization** (Min-Max normalization)\n",
    "\n",
    "$ x' = \\frac{x - \\text{min}(x)}{\\text{max}(x)-\\text{min}(x)} $\n",
    "\n",
    "where $ x $ is an original value, $ x' $ is the normalized value.\n",
    "\n",
    "It is recommended to use Normalization in the case of RNN networks. Therefore we use Min-Max normalization here. You may also experiment with different feature scaling methods."
   ]
  },
  {
   "cell_type": "code",
   "execution_count": 26,
   "metadata": {},
   "outputs": [
    {
     "name": "stdout",
     "output_type": "stream",
     "text": [
      "(2168, 1)\n"
     ]
    },
    {
     "data": {
      "text/plain": [
       "array([[0.00265813],\n",
       "       [0.        ],\n",
       "       [0.00772607],\n",
       "       ...,\n",
       "       [0.98148496],\n",
       "       [0.97657998],\n",
       "       [0.96895747]])"
      ]
     },
     "execution_count": 26,
     "metadata": {},
     "output_type": "execute_result"
    }
   ],
   "source": [
    "from sklearn.preprocessing import MinMaxScaler\n",
    "\n",
    "scaler = MinMaxScaler(feature_range = (0,1)) \n",
    "scaled_training_set = scaler.fit_transform(training_set)\n",
    "\n",
    "print(scaled_training_set.shape)\n",
    "scaled_training_set"
   ]
  },
  {
   "cell_type": "markdown",
   "metadata": {},
   "source": [
    "The `fit` method only calculates the min and max values. It does not apply the formula on the training set. The `fit_transform` method applies the minmax formula on the training set. After applying the minmax formula, the transformed values will be in the range 0 and 1 i.e, the training data (features) will be in the range 0 and 1 (as shown above)."
   ]
  },
  {
   "cell_type": "markdown",
   "metadata": {},
   "source": [
    "## Implementation of LSTM model"
   ]
  },
  {
   "cell_type": "code",
   "execution_count": 27,
   "metadata": {},
   "outputs": [],
   "source": [
    "X_train = []\n",
    "y_train = []\n",
    "\n",
    "for i in range(60, 2168):\n",
    "    X_train.append(scaled_training_set[i-60:i,0])\n",
    "    y_train.append(scaled_training_set[i,0])\n",
    "    \n",
    "X_train,y_train = np.array(X_train),np.array(y_train)"
   ]
  },
  {
   "cell_type": "code",
   "execution_count": 28,
   "metadata": {},
   "outputs": [
    {
     "name": "stdout",
     "output_type": "stream",
     "text": [
      "(2108, 60) (2108,)\n"
     ]
    }
   ],
   "source": [
    "print(X_train.shape, y_train.shape)"
   ]
  },
  {
   "cell_type": "code",
   "execution_count": 29,
   "metadata": {},
   "outputs": [
    {
     "data": {
      "text/plain": [
       "(2108, 60, 1)"
      ]
     },
     "execution_count": 29,
     "metadata": {},
     "output_type": "execute_result"
    }
   ],
   "source": [
    "X_train = np.reshape(X_train,(X_train.shape[0],X_train.shape[1],1)) #adding the batch_size axis\n",
    "X_train.shape"
   ]
  },
  {
   "cell_type": "code",
   "execution_count": 30,
   "metadata": {},
   "outputs": [],
   "source": [
    "from keras.models import Sequential\n",
    "from keras.layers import Dense,LSTM,Dropout"
   ]
  },
  {
   "cell_type": "code",
   "execution_count": 31,
   "metadata": {},
   "outputs": [
    {
     "name": "stdout",
     "output_type": "stream",
     "text": [
      "WARNING:tensorflow:From /usr/local/lib/python3.5/dist-packages/tensorflow/python/framework/op_def_library.py:263: colocate_with (from tensorflow.python.framework.ops) is deprecated and will be removed in a future version.\n",
      "Instructions for updating:\n",
      "Colocations handled automatically by placer.\n",
      "WARNING:tensorflow:From /usr/local/lib/python3.5/dist-packages/keras/backend/tensorflow_backend.py:3445: calling dropout (from tensorflow.python.ops.nn_ops) with keep_prob is deprecated and will be removed in a future version.\n",
      "Instructions for updating:\n",
      "Please use `rate` instead of `keep_prob`. Rate should be set to `rate = 1 - keep_prob`.\n"
     ]
    }
   ],
   "source": [
    "model = Sequential()\n",
    "\n",
    "model.add(LSTM(units=100, return_sequences = True, input_shape =(X_train.shape[1],1)))\n",
    "model.add(Dropout(0.2))\n",
    "\n",
    "model.add(LSTM(units=100, return_sequences = True))\n",
    "model.add(Dropout(0.2))\n",
    "\n",
    "model.add(LSTM(units=100, return_sequences = True))\n",
    "model.add(Dropout(0.2))\n",
    "\n",
    "model.add(LSTM(units=100, return_sequences = False))\n",
    "model.add(Dropout(0.2))\n",
    "\n",
    "model.add(Dense(units =1))\n",
    "model.compile(optimizer='adam',loss=\"mean_squared_error\")"
   ]
  },
  {
   "cell_type": "code",
   "execution_count": 32,
   "metadata": {},
   "outputs": [
    {
     "name": "stdout",
     "output_type": "stream",
     "text": [
      "WARNING:tensorflow:From /usr/local/lib/python3.5/dist-packages/tensorflow/python/ops/math_ops.py:3066: to_int32 (from tensorflow.python.ops.math_ops) is deprecated and will be removed in a future version.\n",
      "Instructions for updating:\n",
      "Use tf.cast instead.\n",
      "Epoch 1/20\n",
      " - 21s - loss: 0.0123\n",
      "Epoch 2/20\n",
      " - 18s - loss: 0.0021\n",
      "Epoch 3/20\n",
      " - 18s - loss: 0.0020\n",
      "Epoch 4/20\n",
      " - 18s - loss: 0.0018\n",
      "Epoch 5/20\n",
      " - 18s - loss: 0.0016\n",
      "Epoch 6/20\n",
      " - 18s - loss: 0.0015\n",
      "Epoch 7/20\n",
      " - 19s - loss: 0.0014\n",
      "Epoch 8/20\n",
      " - 18s - loss: 0.0013\n",
      "Epoch 9/20\n",
      " - 18s - loss: 0.0014\n",
      "Epoch 10/20\n",
      " - 18s - loss: 0.0014\n",
      "Epoch 11/20\n",
      " - 18s - loss: 0.0012\n",
      "Epoch 12/20\n",
      " - 18s - loss: 0.0012\n",
      "Epoch 13/20\n",
      " - 18s - loss: 0.0012\n",
      "Epoch 14/20\n",
      " - 18s - loss: 0.0016\n",
      "Epoch 15/20\n",
      " - 18s - loss: 0.0013\n",
      "Epoch 16/20\n",
      " - 18s - loss: 0.0011\n",
      "Epoch 17/20\n",
      " - 18s - loss: 0.0012\n",
      "Epoch 18/20\n",
      " - 18s - loss: 0.0013\n",
      "Epoch 19/20\n",
      " - 18s - loss: 0.0010\n",
      "Epoch 20/20\n",
      " - 18s - loss: 0.0013\n"
     ]
    }
   ],
   "source": [
    "hist = model.fit(X_train, y_train, epochs = 20, batch_size = 32, verbose=2)"
   ]
  },
  {
   "cell_type": "code",
   "execution_count": 33,
   "metadata": {},
   "outputs": [
    {
     "data": {
      "image/png": "[encoded data removed]",
      "text/plain": [
       "<matplotlib.figure.Figure at 0x7fb7e4134ba8>"
      ]
     },
     "metadata": {},
     "output_type": "display_data"
    }
   ],
   "source": [
    "plt.figure(figsize = (16, 8))\n",
    "plt.plot(hist.history['loss'])\n",
    "plt.title('model loss')\n",
    "plt.ylabel('loss')\n",
    "plt.xlabel('epoch')\n",
    "plt.legend(['train'], loc='upper left')\n",
    "plt.show()"
   ]
  },
  {
   "cell_type": "code",
   "execution_count": 34,
   "metadata": {},
   "outputs": [],
   "source": [
    "testing_set = data_18.iloc[:,1:2]"
   ]
  },
  {
   "cell_type": "code",
   "execution_count": 35,
   "metadata": {},
   "outputs": [],
   "source": [
    "y_test = testing_set.iloc[60:,0:].values"
   ]
  },
  {
   "cell_type": "code",
   "execution_count": 36,
   "metadata": {},
   "outputs": [
    {
     "data": {
      "text/plain": [
       "(167, 1)"
      ]
     },
     "execution_count": 36,
     "metadata": {},
     "output_type": "execute_result"
    }
   ],
   "source": [
    "testing_set = testing_set.iloc[:,0:].values \n",
    "scaled_testing_set = scaler.transform(testing_set)\n",
    "scaled_testing_set.shape"
   ]
  },
  {
   "cell_type": "code",
   "execution_count": 37,
   "metadata": {},
   "outputs": [],
   "source": [
    "X_test = []\n",
    "\n",
    "for i in range(60, 167):\n",
    "    X_test.append(scaled_testing_set[i-60:i,0])\n",
    "    \n",
    "X_test = np.array(X_test)"
   ]
  },
  {
   "cell_type": "code",
   "execution_count": 38,
   "metadata": {},
   "outputs": [
    {
     "name": "stdout",
     "output_type": "stream",
     "text": [
      "(107, 60)\n"
     ]
    }
   ],
   "source": [
    "print(X_test.shape)"
   ]
  },
  {
   "cell_type": "code",
   "execution_count": 39,
   "metadata": {},
   "outputs": [
    {
     "data": {
      "text/plain": [
       "(107, 60, 1)"
      ]
     },
     "execution_count": 39,
     "metadata": {},
     "output_type": "execute_result"
    }
   ],
   "source": [
    "X_test = np.reshape(X_test,(X_test.shape[0],X_test.shape[1],1)) #adding the batch_size axis\n",
    "X_test.shape"
   ]
  },
  {
   "cell_type": "code",
   "execution_count": 40,
   "metadata": {},
   "outputs": [],
   "source": [
    "y_pred = model.predict(X_test) #predicting the new values"
   ]
  },
  {
   "cell_type": "code",
   "execution_count": 41,
   "metadata": {},
   "outputs": [],
   "source": [
    "predicted_price = scaler.inverse_transform(y_pred) #inversing the scaling transformation for ploting"
   ]
  },
  {
   "cell_type": "code",
   "execution_count": 42,
   "metadata": {},
   "outputs": [
    {
     "data": {
      "image/png": "[encoded data removed]",
      "text/plain": [
       "<matplotlib.figure.Figure at 0x7fb7e40e34e0>"
      ]
     },
     "metadata": {},
     "output_type": "display_data"
    }
   ],
   "source": [
    "plt.figure(figsize = (16, 8))\n",
    "\n",
    "plt.plot(y_test, color = 'blue', label = 'Actual Stock Price')\n",
    "plt.plot(predicted_price, color = 'red', label = 'Predicted Stock Price')\n",
    "plt.title('GOOGL stock price prediction')\n",
    "plt.xlabel('Time')\n",
    "plt.ylabel('Stock Price')\n",
    "plt.legend()\n",
    "plt.show()"
   ]
  },
  {
   "cell_type": "markdown",
   "metadata": {},
   "source": [
    "## Implementation of Autoregressive Integrated Moving Average (ARIMA)"
   ]
  },
  {
   "cell_type": "markdown",
   "metadata": {},
   "source": [
    "An ARIMA model predicts the next step in the sequence with the help of a linear function of the differenced observations and residual errors at prior time steps. This combines the Auto Regressive model (which acts upon observations) and the Moving Average model (which acts upon residual errors) with a differnecing pre-processing step (called Integration). "
   ]
  },
  {
   "cell_type": "code",
   "execution_count": 43,
   "metadata": {},
   "outputs": [],
   "source": [
    "from statsmodels.tsa.arima_model import ARIMA\n",
    "from sklearn.metrics import mean_squared_error\n",
    "from pandas.plotting import autocorrelation_plot"
   ]
  },
  {
   "cell_type": "code",
   "execution_count": 44,
   "metadata": {},
   "outputs": [
    {
     "data": {
      "text/plain": [
       "<matplotlib.axes._subplots.AxesSubplot at 0x7fb7b00a1cf8>"
      ]
     },
     "execution_count": 44,
     "metadata": {},
     "output_type": "execute_result"
    },
    {
     "data": {
      "image/png": "[encoded data removed]",
      "text/plain": [
       "<matplotlib.figure.Figure at 0x7fb7e40cee10>"
      ]
     },
     "metadata": {},
     "output_type": "display_data"
    }
   ],
   "source": [
    "autocorrelation_plot(scaled_training_set)"
   ]
  },
  {
   "cell_type": "code",
   "execution_count": 45,
   "metadata": {},
   "outputs": [
    {
     "name": "stderr",
     "output_type": "stream",
     "text": [
      "/usr/local/lib/python3.5/dist-packages/scipy/signal/signaltools.py:1333: FutureWarning: Using a non-tuple sequence for multidimensional indexing is deprecated; use `arr[tuple(seq)]` instead of `arr[seq]`. In the future this will be interpreted as an array index, `arr[np.array(seq)]`, which will result either in an error or a different result.\n",
      "  out_full[ind] += zi\n",
      "/usr/local/lib/python3.5/dist-packages/scipy/signal/signaltools.py:1336: FutureWarning: Using a non-tuple sequence for multidimensional indexing is deprecated; use `arr[tuple(seq)]` instead of `arr[seq]`. In the future this will be interpreted as an array index, `arr[np.array(seq)]`, which will result either in an error or a different result.\n",
      "  out = out_full[ind]\n",
      "/usr/local/lib/python3.5/dist-packages/scipy/signal/signaltools.py:1342: FutureWarning: Using a non-tuple sequence for multidimensional indexing is deprecated; use `arr[tuple(seq)]` instead of `arr[seq]`. In the future this will be interpreted as an array index, `arr[np.array(seq)]`, which will result either in an error or a different result.\n",
      "  zf = out_full[ind]\n"
     ]
    },
    {
     "name": "stdout",
     "output_type": "stream",
     "text": [
      "                             ARIMA Model Results                              \n",
      "==============================================================================\n",
      "Dep. Variable:                    D.y   No. Observations:                 2167\n",
      "Model:                 ARIMA(3, 1, 0)   Log Likelihood                7245.129\n",
      "Method:                       css-mle   S.D. of innovations              0.009\n",
      "Date:                Tue, 22 Oct 2019   AIC                         -14480.258\n",
      "Time:                        00:09:58   BIC                         -14451.852\n",
      "Sample:                             1   HQIC                        -14469.870\n",
      "                                                                              \n",
      "==============================================================================\n",
      "                 coef    std err          z      P>|z|      [0.025      0.975]\n",
      "------------------------------------------------------------------------------\n",
      "const          0.0004      0.000      2.415      0.016     8.4e-05       0.001\n",
      "ar.L1.D.y      0.0057      0.021      0.266      0.790      -0.036       0.048\n",
      "ar.L2.D.y     -0.0158      0.021     -0.734      0.463      -0.058       0.026\n",
      "ar.L3.D.y      0.0157      0.021      0.730      0.466      -0.026       0.058\n",
      "                                    Roots                                    \n",
      "=============================================================================\n",
      "                  Real          Imaginary           Modulus         Frequency\n",
      "-----------------------------------------------------------------------------\n",
      "AR.1           -1.6611           -3.4621j            3.8400           -0.3212\n",
      "AR.2           -1.6611           +3.4621j            3.8400            0.3212\n",
      "AR.3            4.3285           -0.0000j            4.3285           -0.0000\n",
      "-----------------------------------------------------------------------------\n"
     ]
    }
   ],
   "source": [
    "'''\n",
    "\n",
    "Based on the above correlation plot, there is a positive correlation with the first 750-to-780 lags that \n",
    "is perhaps significant for the first 2-3 lags.\n",
    "\n",
    "'''\n",
    "\n",
    "#let us define a model with lag value 3, difference order 2, and moving average 0\n",
    "ARIMA_model = ARIMA(scaled_training_set, order=(3,1,0))\n",
    "ARIMA_model_fit = ARIMA_model.fit(disp=0)\n",
    "print(ARIMA_model_fit.summary())"
   ]
  },
  {
   "cell_type": "code",
   "execution_count": 46,
   "metadata": {},
   "outputs": [
    {
     "data": {
      "image/png": "[encoded data removed]",
      "text/plain": [
       "<matplotlib.figure.Figure at 0x7fb7b004e2b0>"
      ]
     },
     "metadata": {},
     "output_type": "display_data"
    },
    {
     "data": {
      "image/png": "[encoded data removed]",
      "text/plain": [
       "<matplotlib.figure.Figure at 0x7fb79fdb8860>"
      ]
     },
     "metadata": {},
     "output_type": "display_data"
    },
    {
     "name": "stdout",
     "output_type": "stream",
     "text": [
      "                  0\n",
      "count  2.167000e+03\n",
      "mean   4.667127e-09\n",
      "std    8.547648e-03\n",
      "min   -7.975511e-02\n",
      "25%   -3.612661e-03\n",
      "50%   -5.679374e-05\n",
      "75%    3.896318e-03\n",
      "max    1.014656e-01\n"
     ]
    }
   ],
   "source": [
    "residuals = pd.DataFrame(ARIMA_model_fit.resid)\n",
    "\n",
    "residuals.plot()\n",
    "plt.show()\n",
    "residuals.plot(kind='kde')\n",
    "plt.show()\n",
    "print(residuals.describe())"
   ]
  },
  {
   "cell_type": "code",
   "execution_count": null,
   "metadata": {},
   "outputs": [],
   "source": [
    "history = [x for x in training_set]\n",
    "predictions = []"
   ]
  },
  {
   "cell_type": "code",
   "execution_count": null,
   "metadata": {},
   "outputs": [
    {
     "name": "stderr",
     "output_type": "stream",
     "text": [
      "/usr/local/lib/python3.5/dist-packages/scipy/signal/signaltools.py:1333: FutureWarning: Using a non-tuple sequence for multidimensional indexing is deprecated; use `arr[tuple(seq)]` instead of `arr[seq]`. In the future this will be interpreted as an array index, `arr[np.array(seq)]`, which will result either in an error or a different result.\n",
      "  out_full[ind] += zi\n",
      "/usr/local/lib/python3.5/dist-packages/scipy/signal/signaltools.py:1336: FutureWarning: Using a non-tuple sequence for multidimensional indexing is deprecated; use `arr[tuple(seq)]` instead of `arr[seq]`. In the future this will be interpreted as an array index, `arr[np.array(seq)]`, which will result either in an error or a different result.\n",
      "  out = out_full[ind]\n",
      "/usr/local/lib/python3.5/dist-packages/scipy/signal/signaltools.py:1342: FutureWarning: Using a non-tuple sequence for multidimensional indexing is deprecated; use `arr[tuple(seq)]` instead of `arr[seq]`. In the future this will be interpreted as an array index, `arr[np.array(seq)]`, which will result either in an error or a different result.\n",
      "  zf = out_full[ind]\n"
     ]
    },
    {
     "name": "stdout",
     "output_type": "stream",
     "text": [
      "predicted=1051.754807, expected=1011.210022\n"
     ]
    },
    {
     "name": "stderr",
     "output_type": "stream",
     "text": [
      "/usr/local/lib/python3.5/dist-packages/statsmodels/base/model.py:512: ConvergenceWarning: Maximum Likelihood optimization failed to converge. Check mle_retvals\n",
      "  \"Check mle_retvals\", ConvergenceWarning)\n"
     ]
    },
    {
     "name": "stdout",
     "output_type": "stream",
     "text": [
      "predicted=996.015668, expected=1027.619995\n",
      "predicted=1018.061976, expected=1016.150024\n",
      "predicted=1003.398266, expected=998.229980\n",
      "predicted=986.039556, expected=1046.390015\n",
      "predicted=1054.213046, expected=1023.099976\n",
      "predicted=1021.972296, expected=1020.039978\n",
      "predicted=1024.378010, expected=1030.260010\n",
      "predicted=1034.272330, expected=1032.000000\n",
      "predicted=1029.614080, expected=1031.469971\n",
      "predicted=1034.299467, expected=1046.890015\n",
      "predicted=1053.098283, expected=1045.550049\n",
      "predicted=1049.313830, expected=1061.199951\n",
      "predicted=1069.351695, expected=1079.010010\n",
      "predicted=1089.980223, expected=1069.020020\n",
      "predicted=1075.626054, expected=1084.270020\n",
      "predicted=1093.956323, expected=1082.979980\n",
      "predicted=1086.879161, expected=1059.199951\n",
      "predicted=1055.827601, expected=1029.750000\n",
      "predicted=1018.735315, expected=1033.219971\n",
      "predicted=1019.079047, expected=1045.540039\n",
      "predicted=1035.941909, expected=1034.420044\n",
      "predicted=1030.059794, expected=1016.299988\n",
      "predicted=1013.387160, expected=1034.000000\n",
      "predicted=1032.982016, expected=1025.369995\n",
      "predicted=1019.831297, expected=1019.609985\n",
      "predicted=1017.937984, expected=1053.890015\n",
      "predicted=1061.726040, expected=1064.619995\n",
      "predicted=1072.263161, expected=1064.099976\n",
      "predicted=1076.239692, expected=1095.000000\n",
      "predicted=1112.507996, expected=1100.410034\n",
      "predicted=1111.210472, expected=1105.569946\n",
      "predicted=1117.917370, expected=1096.900024\n",
      "predicted=1103.621565, expected=1085.089966\n",
      "predicted=1082.632993, expected=1081.459961\n",
      "predicted=1075.870713, expected=1066.000000\n",
      "predicted=1055.863040, expected=1079.000000\n",
      "predicted=1075.064386, expected=1089.800049\n",
      "predicted=1090.168821, expected=1070.000000\n",
      "predicted=1068.916032, expected=1086.900024\n",
      "predicted=1092.093294, expected=1086.550049\n",
      "predicted=1086.312142, expected=1076.000000\n",
      "predicted=1075.066430, expected=1073.479980\n",
      "predicted=1073.265896, expected=1082.000000\n",
      "predicted=1080.040611, expected=1112.869995\n",
      "predicted=1119.927772, expected=1138.500000\n",
      "predicted=1154.835521, expected=1154.660034\n",
      "predicted=1176.436202, expected=1152.770020\n",
      "predicted=1170.075899, expected=1144.579956\n",
      "predicted=1151.778244, expected=1131.209961\n",
      "predicted=1128.025113, expected=1132.939941\n",
      "predicted=1127.186113, expected=1141.020020\n",
      "predicted=1137.876826, expected=1152.280029\n",
      "predicted=1155.341534, expected=1152.209961\n",
      "predicted=1157.794410, expected=1159.920044\n",
      "predicted=1166.900055, expected=1152.689941\n"
     ]
    }
   ],
   "source": [
    "for t in range(len(y_test)):\n",
    "    ARIMA_model = ARIMA(history, order=(3,2,0))\n",
    "    ARIMA_model_fit = ARIMA_model.fit(disp=0)\n",
    "    output = ARIMA_model_fit.forecast()\n",
    "    yhat = output[0]\n",
    "    predictions.append(yhat)\n",
    "    obs = y_test[t]\n",
    "    history.append(obs)\n",
    "    print('predicted=%f, expected=%f' % (yhat, obs))"
   ]
  },
  {
   "cell_type": "code",
   "execution_count": null,
   "metadata": {},
   "outputs": [],
   "source": [
    "plt.figure(figsize = (16, 8))\n",
    "error = mean_squared_error(y_test, predictions)\n",
    "print('Test MSE: %.3f' % error)\n",
    "# plot\n",
    "plt.plot(y_test)\n",
    "plt.plot(predictions, color='red')\n",
    "plt.show()"
   ]
  },
  {
   "cell_type": "markdown",
   "metadata": {},
   "source": [
    "## Implementation using Support Vector Regression"
   ]
  }
 ],
 "metadata": {
  "kernelspec": {
   "display_name": "Python 3",
   "language": "python",
   "name": "python3"
  },
  "language_info": {
   "codemirror_mode": {
    "name": "ipython",
    "version": 3
   },
   "file_extension": ".py",
   "mimetype": "text/x-python",
   "name": "python",
   "nbconvert_exporter": "python",
   "pygments_lexer": "ipython3",
   "version": "3.5.2"
  }
 },
 "nbformat": 4,
 "nbformat_minor": 2
}
